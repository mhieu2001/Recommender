{
  "nbformat": 4,
  "nbformat_minor": 0,
  "metadata": {
    "colab": {
      "provenance": [],
      "authorship_tag": "ABX9TyM8wel2aWYJP1WfXW7RxO2q",
      "include_colab_link": true
    },
    "kernelspec": {
      "name": "python3",
      "display_name": "Python 3"
    },
    "language_info": {
      "name": "python"
    }
  },
  "cells": [
    {
      "cell_type": "markdown",
      "metadata": {
        "id": "view-in-github",
        "colab_type": "text"
      },
      "source": [
        "<a href=\"https://colab.research.google.com/github/mhieu2001/Recommender/blob/main/SmallExampleFilmRecommendation.ipynb\" target=\"_parent\"><img src=\"https://colab.research.google.com/assets/colab-badge.svg\" alt=\"Open In Colab\"/></a>"
      ]
    },
    {
      "cell_type": "code",
      "execution_count": null,
      "metadata": {
        "colab": {
          "base_uri": "https://localhost:8080/"
        },
        "id": "BLvX8bWr94GQ",
        "outputId": "1b9f083c-a66c-433e-daee-76016b7aacf4"
      },
      "outputs": [
        {
          "output_type": "stream",
          "name": "stdout",
          "text": [
            "Collecting surprise\n",
            "  Downloading surprise-0.1-py2.py3-none-any.whl (1.8 kB)\n",
            "Collecting scikit-surprise (from surprise)\n",
            "  Downloading scikit-surprise-1.1.3.tar.gz (771 kB)\n",
            "\u001b[?25l     \u001b[90m━━━━━━━━━━━━━━━━━━━━━━━━━━━━━━━━━━━━━━━━\u001b[0m \u001b[32m0.0/772.0 kB\u001b[0m \u001b[31m?\u001b[0m eta \u001b[36m-:--:--\u001b[0m\r\u001b[2K     \u001b[91m━━━━━━━━━━━━━━━━\u001b[0m\u001b[90m╺\u001b[0m\u001b[90m━━━━━━━━━━━━━━━━━━━━━━━\u001b[0m \u001b[32m317.4/772.0 kB\u001b[0m \u001b[31m9.5 MB/s\u001b[0m eta \u001b[36m0:00:01\u001b[0m\r\u001b[2K     \u001b[90m━━━━━━━━━━━━━━━━━━━━━━━━━━━━━━━━━━━━━━━━\u001b[0m \u001b[32m772.0/772.0 kB\u001b[0m \u001b[31m14.9 MB/s\u001b[0m eta \u001b[36m0:00:00\u001b[0m\n",
            "\u001b[?25h  Preparing metadata (setup.py) ... \u001b[?25l\u001b[?25hdone\n",
            "Requirement already satisfied: joblib>=1.0.0 in /usr/local/lib/python3.10/dist-packages (from scikit-surprise->surprise) (1.3.2)\n",
            "Requirement already satisfied: numpy>=1.17.3 in /usr/local/lib/python3.10/dist-packages (from scikit-surprise->surprise) (1.25.2)\n",
            "Requirement already satisfied: scipy>=1.3.2 in /usr/local/lib/python3.10/dist-packages (from scikit-surprise->surprise) (1.11.4)\n",
            "Building wheels for collected packages: scikit-surprise\n",
            "  Building wheel for scikit-surprise (setup.py) ... \u001b[?25l\u001b[?25hdone\n",
            "  Created wheel for scikit-surprise: filename=scikit_surprise-1.1.3-cp310-cp310-linux_x86_64.whl size=3163002 sha256=7294ae0293cb226a1b33792b59862f113e5a4fddd98d28c3f5f1087d6de3f139\n",
            "  Stored in directory: /root/.cache/pip/wheels/a5/ca/a8/4e28def53797fdc4363ca4af740db15a9c2f1595ebc51fb445\n",
            "Successfully built scikit-surprise\n",
            "Installing collected packages: scikit-surprise, surprise\n",
            "Successfully installed scikit-surprise-1.1.3 surprise-0.1\n"
          ]
        }
      ],
      "source": [
        "pip install surprise\n"
      ]
    },
    {
      "cell_type": "code",
      "source": [
        "import surprise"
      ],
      "metadata": {
        "id": "2Oe_24mD-sz0"
      },
      "execution_count": null,
      "outputs": []
    },
    {
      "cell_type": "code",
      "source": [
        "from surprise import Dataset\n",
        "movie_data=Dataset.load_builtin('ml-100k')"
      ],
      "metadata": {
        "colab": {
          "base_uri": "https://localhost:8080/"
        },
        "id": "Yfqfv7SU-f0w",
        "outputId": "fc9a701f-541f-441c-d480-9aec6f0b471b"
      },
      "execution_count": null,
      "outputs": [
        {
          "output_type": "stream",
          "name": "stdout",
          "text": [
            "Dataset ml-100k could not be found. Do you want to download it? [Y/n] Y\n",
            "Trying to download dataset from https://files.grouplens.org/datasets/movielens/ml-100k.zip...\n",
            "Done! Dataset ml-100k has been saved to /root/.surprise_data/ml-100k\n"
          ]
        }
      ]
    },
    {
      "cell_type": "code",
      "source": [
        "from surprise.model_selection import train_test_split\n",
        "trainset, testset = train_test_split(movie_data, test_size=.2, random_state=42)"
      ],
      "metadata": {
        "id": "HXLhXDhh_Qsw"
      },
      "execution_count": null,
      "outputs": []
    },
    {
      "cell_type": "code",
      "source": [
        "trainset.ur[590]"
      ],
      "metadata": {
        "colab": {
          "base_uri": "https://localhost:8080/"
        },
        "id": "YHoWCmq9_QvK",
        "outputId": "a16ac653-67a1-4de4-e96f-75ac2f9abf05"
      },
      "execution_count": null,
      "outputs": [
        {
          "output_type": "execute_result",
          "data": {
            "text/plain": [
              "[(699, 4.0),\n",
              " (114, 4.0),\n",
              " (339, 5.0),\n",
              " (769, 5.0),\n",
              " (230, 4.0),\n",
              " (212, 5.0),\n",
              " (21, 5.0),\n",
              " (33, 3.0),\n",
              " (94, 4.0),\n",
              " (74, 2.0),\n",
              " (22, 4.0),\n",
              " (471, 5.0),\n",
              " (8, 3.0),\n",
              " (305, 3.0),\n",
              " (645, 3.0),\n",
              " (558, 2.0),\n",
              " (166, 4.0),\n",
              " (129, 4.0),\n",
              " (100, 5.0),\n",
              " (232, 3.0),\n",
              " (391, 3.0),\n",
              " (204, 3.0),\n",
              " (508, 4.0),\n",
              " (79, 3.0),\n",
              " (83, 4.0),\n",
              " (426, 1.0),\n",
              " (6, 3.0),\n",
              " (58, 3.0),\n",
              " (1119, 5.0),\n",
              " (76, 5.0)]"
            ]
          },
          "metadata": {},
          "execution_count": 8
        }
      ]
    },
    {
      "cell_type": "code",
      "source": [
        "from surprise import KNNBasic\n",
        "from surprise import accuracy\n",
        "\n",
        "movie_recommender = KNNBasic()\n",
        "movie_recommender.fit(trainset)"
      ],
      "metadata": {
        "colab": {
          "base_uri": "https://localhost:8080/"
        },
        "id": "1joig7_N_QzK",
        "outputId": "4f2d9c79-8f92-4014-ce3f-f4111f38f181"
      },
      "execution_count": null,
      "outputs": [
        {
          "output_type": "stream",
          "name": "stdout",
          "text": [
            "Computing the msd similarity matrix...\n",
            "Done computing similarity matrix.\n"
          ]
        },
        {
          "output_type": "execute_result",
          "data": {
            "text/plain": [
              "<surprise.prediction_algorithms.knns.KNNBasic at 0x7aaedf6b8b50>"
            ]
          },
          "metadata": {},
          "execution_count": 9
        }
      ]
    },
    {
      "cell_type": "code",
      "source": [
        "predictions=movie_recommender.test(testset)"
      ],
      "metadata": {
        "id": "OtZvvNgn_Q19"
      },
      "execution_count": null,
      "outputs": []
    },
    {
      "cell_type": "code",
      "source": [
        "predictions[12]"
      ],
      "metadata": {
        "colab": {
          "base_uri": "https://localhost:8080/"
        },
        "id": "f2KSD1HEAl8Q",
        "outputId": "ca916a8a-1803-4b40-9d85-ad36acbb46d3"
      },
      "execution_count": null,
      "outputs": [
        {
          "output_type": "execute_result",
          "data": {
            "text/plain": [
              "Prediction(uid='417', iid='200', r_ui=4.0, est=3.772765092338608, details={'actual_k': 40, 'was_impossible': False})"
            ]
          },
          "metadata": {},
          "execution_count": 12
        }
      ]
    },
    {
      "cell_type": "code",
      "source": [
        "accuracy.rmse(predictions)"
      ],
      "metadata": {
        "colab": {
          "base_uri": "https://localhost:8080/"
        },
        "id": "Jt7BTLzPBh2i",
        "outputId": "5f40cdfe-8424-4150-fb6c-7423de5f7d9f"
      },
      "execution_count": null,
      "outputs": [
        {
          "output_type": "stream",
          "name": "stdout",
          "text": [
            "RMSE: 0.9802\n"
          ]
        },
        {
          "output_type": "execute_result",
          "data": {
            "text/plain": [
              "0.980150596704479"
            ]
          },
          "metadata": {},
          "execution_count": 13
        }
      ]
    },
    {
      "cell_type": "code",
      "source": [
        "from surprise import SVD\n",
        "from surprise import accuracy\n",
        "\n",
        "svd_recommender = SVD()\n",
        "svd_recommender.fit(trainset)\n",
        "\n",
        "accuracy.rmse(svd_predictions)\n"
      ],
      "metadata": {
        "colab": {
          "base_uri": "https://localhost:8080/"
        },
        "id": "0fH2Gq-aB5QO",
        "outputId": "187eda7e-dadd-4575-e736-9d3296de5293"
      },
      "execution_count": null,
      "outputs": [
        {
          "output_type": "stream",
          "name": "stdout",
          "text": [
            "RMSE: 0.9385\n"
          ]
        },
        {
          "output_type": "execute_result",
          "data": {
            "text/plain": [
              "0.9385377251022635"
            ]
          },
          "metadata": {},
          "execution_count": 14
        }
      ]
    },
    {
      "cell_type": "code",
      "source": [
        "svd_predictions = svd_recommender.test(testset)\n",
        "svd_predictions[12]"
      ],
      "metadata": {
        "colab": {
          "base_uri": "https://localhost:8080/"
        },
        "id": "IA51hwG-CCQl",
        "outputId": "fda59db2-8b95-4241-8c58-978d4c6bdc0f"
      },
      "execution_count": null,
      "outputs": [
        {
          "output_type": "execute_result",
          "data": {
            "text/plain": [
              "Prediction(uid='417', iid='200', r_ui=4.0, est=3.2414167218944496, details={'was_impossible': False})"
            ]
          },
          "metadata": {},
          "execution_count": 15
        }
      ]
    },
    {
      "cell_type": "code",
      "source": [
        "pip install prettytable"
      ],
      "metadata": {
        "colab": {
          "base_uri": "https://localhost:8080/"
        },
        "id": "7BltNYrHCOzu",
        "outputId": "6718b683-1753-4259-b142-58876ebf5364"
      },
      "execution_count": null,
      "outputs": [
        {
          "output_type": "stream",
          "name": "stdout",
          "text": [
            "Requirement already satisfied: prettytable in /usr/local/lib/python3.10/dist-packages (3.9.0)\n",
            "Requirement already satisfied: wcwidth in /usr/local/lib/python3.10/dist-packages (from prettytable) (0.2.13)\n"
          ]
        }
      ]
    },
    {
      "cell_type": "code",
      "source": [
        "from prettytable import PrettyTable\n",
        "\n",
        "table = PrettyTable()\n",
        "table.field_names = [\"User ID\", \"Item ID\", \"Actual Rating\", \"Estimated Rating\"]\n",
        "\n",
        "# Add data to the table\n",
        "for prediction in predictions[:10]:\n",
        "    table.add_row([prediction.uid, prediction.iid, prediction.r_ui, prediction.est])\n",
        "\n",
        "print(table)"
      ],
      "metadata": {
        "colab": {
          "base_uri": "https://localhost:8080/"
        },
        "id": "D-YGUvZUCO65",
        "outputId": "916bbbeb-1843-4abb-c48d-9eb601240199"
      },
      "execution_count": null,
      "outputs": [
        {
          "output_type": "stream",
          "name": "stdout",
          "text": [
            "+---------+---------+---------------+--------------------+\n",
            "| User ID | Item ID | Actual Rating |  Estimated Rating  |\n",
            "+---------+---------+---------------+--------------------+\n",
            "|   907   |   143   |      5.0      | 4.039960584359155  |\n",
            "|   371   |   210   |      4.0      | 4.017925064716712  |\n",
            "|   218   |    42   |      4.0      | 3.7671897065953712 |\n",
            "|   829   |   170   |      4.0      | 4.196945437050507  |\n",
            "|   733   |   277   |      1.0      | 3.3353958388714653 |\n",
            "|   363   |   1512  |      1.0      | 4.463116702100285  |\n",
            "|   193   |   487   |      5.0      | 3.959646386658832  |\n",
            "|   808   |   313   |      5.0      | 4.482811176968667  |\n",
            "|   557   |   682   |      2.0      | 2.7639895884908117 |\n",
            "|   774   |   196   |      3.0      | 3.603380566417812  |\n",
            "+---------+---------+---------------+--------------------+\n"
          ]
        }
      ]
    },
    {
      "cell_type": "code",
      "source": [
        "tableSVD = PrettyTable()\n",
        "tableSVD.field_names = [\"User ID\", \"Item ID\", \"Actual Rating\", \"Estimated Rating\"]\n",
        "\n",
        "# Add data to the table\n",
        "for prediction in svd_predictions[:10]:\n",
        "    tableSVD.add_row([prediction.uid, prediction.iid, prediction.r_ui, prediction.est])\n",
        "\n",
        "print(tableSVD)"
      ],
      "metadata": {
        "colab": {
          "base_uri": "https://localhost:8080/"
        },
        "id": "1zjgXxa9DA-4",
        "outputId": "62c45fa9-3ac1-4ed2-be6c-d768329c25cd"
      },
      "execution_count": null,
      "outputs": [
        {
          "output_type": "stream",
          "name": "stdout",
          "text": [
            "+---------+---------+---------------+--------------------+\n",
            "| User ID | Item ID | Actual Rating |  Estimated Rating  |\n",
            "+---------+---------+---------------+--------------------+\n",
            "|   907   |   143   |      5.0      | 4.776618101392574  |\n",
            "|   371   |   210   |      4.0      | 4.224987866365996  |\n",
            "|   218   |    42   |      4.0      | 3.5561718408231435 |\n",
            "|   829   |   170   |      4.0      | 4.049506079124723  |\n",
            "|   733   |   277   |      1.0      | 2.929545027714769  |\n",
            "|   363   |   1512  |      1.0      | 3.0673477356263894 |\n",
            "|   193   |   487   |      5.0      | 3.7260152390947967 |\n",
            "|   808   |   313   |      5.0      | 4.824462517639761  |\n",
            "|   557   |   682   |      2.0      | 3.141850804441701  |\n",
            "|   774   |   196   |      3.0      | 2.650568286517286  |\n",
            "+---------+---------+---------------+--------------------+\n"
          ]
        }
      ]
    }
  ]
}